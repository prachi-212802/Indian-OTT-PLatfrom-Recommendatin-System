{
  "nbformat": 4,
  "nbformat_minor": 0,
  "metadata": {
    "colab": {
      "name": "Recommender System .ipynb",
      "provenance": [],
      "collapsed_sections": []
    },
    "kernelspec": {
      "name": "python3",
      "display_name": "Python 3"
    },
    "language_info": {
      "name": "python"
    }
  },
  "cells": [
    {
      "cell_type": "markdown",
      "source": [
        "# Importing"
      ],
      "metadata": {
        "id": "PNazpRIfxLVh"
      }
    },
    {
      "cell_type": "code",
      "execution_count": 1,
      "metadata": {
        "id": "Ii3s4aRdw9Bw"
      },
      "outputs": [],
      "source": [
        "\n",
        "%matplotlib inline\n",
        "import pandas as pd\n",
        "import numpy as np\n",
        "import matplotlib.pyplot as plt\n",
        "import seaborn as sns\n",
        "from scipy import stats\n",
        "from ast import literal_eval\n",
        "from sklearn.feature_extraction.text import TfidfVectorizer, CountVectorizer\n",
        "from sklearn.metrics.pairwise import linear_kernel, cosine_similarity\n",
        "from nltk.stem.snowball import SnowballStemmer\n",
        "from nltk.stem.wordnet import WordNetLemmatizer\n",
        "from nltk.corpus import wordnet\n",
        "#from surprise import Reader, Dataset, SVDb\n",
        "\n",
        "import warnings; warnings.simplefilter('ignore')"
      ]
    },
    {
      "cell_type": "code",
      "source": [
        "from google.colab import drive\n",
        "drive.mount('/content/drive')"
      ],
      "metadata": {
        "colab": {
          "base_uri": "https://localhost:8080/"
        },
        "id": "7yb8Dnj5ybu8",
        "outputId": "7b20df1b-cc4b-4248-d38a-6f858cc5c6c3"
      },
      "execution_count": 2,
      "outputs": [
        {
          "output_type": "stream",
          "name": "stdout",
          "text": [
            "Mounted at /content/drive\n"
          ]
        }
      ]
    },
    {
      "cell_type": "markdown",
      "source": [
        "# Movie Overviews and Taglines\n"
      ],
      "metadata": {
        "id": "ES0e8Mjg5zgg"
      }
    },
    {
      "cell_type": "code",
      "source": [
        "df = pd.read_csv(\"/content/drive/MyDrive/movie dataset/indian_movies.csv\")\n",
        "df = df.iloc[:, 1:]   # remove unnecessory columns, position is at 0th place\n",
        "df.shape"
      ],
      "metadata": {
        "id": "5p-jOmgz7yjb",
        "outputId": "acaa5bd9-ed6e-4bdf-a902-8465b8ede7aa",
        "colab": {
          "base_uri": "https://localhost:8080/"
        }
      },
      "execution_count": 3,
      "outputs": [
        {
          "output_type": "execute_result",
          "data": {
            "text/plain": [
              "(828, 24)"
            ]
          },
          "metadata": {},
          "execution_count": 3
        }
      ]
    },
    {
      "cell_type": "code",
      "source": [
        "#df = df.drop([19730, 29503, 35587])"
      ],
      "metadata": {
        "id": "38qZ7HjE53zV"
      },
      "execution_count": null,
      "outputs": []
    },
    {
      "cell_type": "code",
      "source": [
        "df['genres'] = df['genres'].fillna('[]').apply(literal_eval).apply(lambda x: [i['name'] for i in x] if isinstance(x, list) else [])\n",
        "\n",
        "\n",
        "## Genre is in list of dictionary (dictionary of id and genre name), convert it into list of genres\n",
        "# Literal eval is convert the sting into list, our data in csv is in string type, list is also in string type, so w euse literal_eval to convert the string into original one."
      ],
      "metadata": {
        "id": "wCYBuhu2ywek"
      },
      "execution_count": 4,
      "outputs": []
    },
    {
      "cell_type": "code",
      "source": [
        "vote_counts = df[df['vote_count'].notnull()]['vote_count'].astype('int')\n",
        "vote_averages = df[df['vote_average'].notnull()]['vote_average'].astype('int')\n",
        "C = vote_averages.mean()\n",
        "C"
      ],
      "metadata": {
        "colab": {
          "base_uri": "https://localhost:8080/"
        },
        "id": "mGrvqros0OaW",
        "outputId": "c251f460-36ce-42d6-d540-56b65c9945d3"
      },
      "execution_count": 5,
      "outputs": [
        {
          "output_type": "execute_result",
          "data": {
            "text/plain": [
              "5.531400966183575"
            ]
          },
          "metadata": {},
          "execution_count": 5
        }
      ]
    },
    {
      "cell_type": "code",
      "source": [
        "m = vote_counts.quantile(0.95)\n",
        "m"
      ],
      "metadata": {
        "colab": {
          "base_uri": "https://localhost:8080/"
        },
        "id": "dm5ctoHm3KVK",
        "outputId": "8a54cda9-8cfa-44f4-bbd3-e71a7618fd03"
      },
      "execution_count": 6,
      "outputs": [
        {
          "output_type": "execute_result",
          "data": {
            "text/plain": [
              "84.0"
            ]
          },
          "metadata": {},
          "execution_count": 6
        }
      ]
    },
    {
      "cell_type": "code",
      "source": [
        "df['year'] = pd.to_datetime(df['release_date'], errors='coerce').apply(lambda x: str(x).split('-')[0] if x != np.nan else np.nan)\n",
        "# Year columns is added in the original dataset by using the release_date"
      ],
      "metadata": {
        "id": "JxfQ_aQT3Mmq"
      },
      "execution_count": 7,
      "outputs": []
    },
    {
      "cell_type": "code",
      "source": [
        "df['id'] = df['id'].astype('int')"
      ],
      "metadata": {
        "id": "-M_-pcdZ7aZR"
      },
      "execution_count": 8,
      "outputs": []
    },
    {
      "cell_type": "code",
      "source": [
        "def weighted_rating(x):\n",
        "    v = x['vote_count']\n",
        "    R = x['vote_average']\n",
        "    return (v/(v+m) * R) + (m/(m+v) * C)"
      ],
      "metadata": {
        "id": "yHGZv_31z496"
      },
      "execution_count": 9,
      "outputs": []
    },
    {
      "cell_type": "code",
      "source": [
        "links_df = pd.read_csv('/content/drive/MyDrive/movie dataset/links_small.csv')\n",
        "links_df = links_df[links_df['tmdbId'].notnull()]['tmdbId'].astype('int')"
      ],
      "metadata": {
        "id": "4w6XDrY87oRn"
      },
      "execution_count": 10,
      "outputs": []
    },
    {
      "cell_type": "code",
      "source": [
        "df.shape"
      ],
      "metadata": {
        "colab": {
          "base_uri": "https://localhost:8080/"
        },
        "id": "22npxaCRAIMV",
        "outputId": "0407cd4d-ee02-43c0-b8d5-f29bc6e0953b"
      },
      "execution_count": 11,
      "outputs": [
        {
          "output_type": "execute_result",
          "data": {
            "text/plain": [
              "(828, 25)"
            ]
          },
          "metadata": {},
          "execution_count": 11
        }
      ]
    },
    {
      "cell_type": "code",
      "source": [
        "small_df = df[df['id'].isin(links_df)]\n",
        "small_df.shape"
      ],
      "metadata": {
        "colab": {
          "base_uri": "https://localhost:8080/"
        },
        "id": "TjRKWjJR8Klz",
        "outputId": "11a5a016-666c-4504-8647-4c2333ec21b7"
      },
      "execution_count": 12,
      "outputs": [
        {
          "output_type": "execute_result",
          "data": {
            "text/plain": [
              "(39, 25)"
            ]
          },
          "metadata": {},
          "execution_count": 12
        }
      ]
    },
    {
      "cell_type": "code",
      "source": [
        "small_df['tagline'] = small_df['tagline'].fillna('')\n",
        "small_df['description'] = small_df['overview'] + small_df['tagline']\n",
        "small_df['description'] = small_df['description'].fillna('')"
      ],
      "metadata": {
        "id": "eV-U-7QZ8YHX"
      },
      "execution_count": null,
      "outputs": []
    },
    {
      "cell_type": "code",
      "source": [
        "func = TfidfVectorizer(analyzer='word',ngram_range=(1, 2),min_df=0, stop_words='english')\n",
        "\n",
        "matrix = func.fit_transform(small_df['description'])"
      ],
      "metadata": {
        "id": "BDcQKWFS8jJK"
      },
      "execution_count": null,
      "outputs": []
    },
    {
      "cell_type": "code",
      "source": [
        "matrix.shape"
      ],
      "metadata": {
        "colab": {
          "base_uri": "https://localhost:8080/"
        },
        "id": "1MYH4Lhf86Fk",
        "outputId": "bbc83726-ace4-490c-f666-64a486def4f8"
      },
      "execution_count": null,
      "outputs": [
        {
          "output_type": "execute_result",
          "data": {
            "text/plain": [
              "(39, 2394)"
            ]
          },
          "metadata": {},
          "execution_count": 16
        }
      ]
    },
    {
      "cell_type": "code",
      "source": [
        "cosine_sim = linear_kernel(matrix, matrix)"
      ],
      "metadata": {
        "id": "oXGVqFEF88Jj"
      },
      "execution_count": null,
      "outputs": []
    },
    {
      "cell_type": "code",
      "source": [
        "cosine_sim[0]"
      ],
      "metadata": {
        "colab": {
          "base_uri": "https://localhost:8080/"
        },
        "id": "dBbG74_j8_qr",
        "outputId": "9a3a8948-84c1-430c-c589-b86ebf5e2f19"
      },
      "execution_count": null,
      "outputs": [
        {
          "output_type": "execute_result",
          "data": {
            "text/plain": [
              "array([1.        , 0.06083   , 0.05352798, 0.00360787, 0.01168117,\n",
              "       0.0184591 , 0.00908338, 0.01627048, 0.0310815 , 0.0330157 ,\n",
              "       0.02144284, 0.13721876, 0.        , 0.02441336, 0.        ,\n",
              "       0.        , 0.03317478, 0.01920172, 0.02648269, 0.00463108,\n",
              "       0.        , 0.0124538 , 0.        , 0.01674144, 0.00661898,\n",
              "       0.02647744, 0.00773867, 0.0103507 , 0.00510464, 0.        ,\n",
              "       0.        , 0.00807022, 0.0175017 , 0.03406363, 0.00259932,\n",
              "       0.00751258, 0.        , 0.01133472, 0.00537892])"
            ]
          },
          "metadata": {},
          "execution_count": 18
        }
      ]
    },
    {
      "cell_type": "code",
      "source": [
        "small_df = small_df.reset_index()\n",
        "titles = small_df['title']\n",
        "indices = pd.Series(small_df.index, index=small_df['title'])"
      ],
      "metadata": {
        "id": "rul6n63i9B9S"
      },
      "execution_count": null,
      "outputs": []
    },
    {
      "cell_type": "code",
      "source": [
        "def recommendations(any_title, bool=False):\n",
        "    index = indices[any_title]\n",
        "    scores = list(enumerate(cosine_sim[index]))\n",
        "    scores = sorted(scores, key=lambda x: x[1], reverse=True)\n",
        "    scores = scores[1:31]\n",
        "    mve_index = [i[0] for i in scores]\n",
        "    if bool:\n",
        "      return mve_index\n",
        "    return titles.iloc[mve_index]"
      ],
      "metadata": {
        "id": "slmK4WQe9FTf"
      },
      "execution_count": null,
      "outputs": []
    },
    {
      "cell_type": "code",
      "source": [
        "recommendations('Gandhi').head(10)"
      ],
      "metadata": {
        "colab": {
          "base_uri": "https://localhost:8080/"
        },
        "id": "oDfLykf79eXX",
        "outputId": "fd51c3be-266c-4feb-e81b-e59e537f8c87"
      },
      "execution_count": null,
      "outputs": [
        {
          "output_type": "execute_result",
          "data": {
            "text/plain": [
              "0                       Pather Panchali\n",
              "35                      Bridge of Spies\n",
              "10    Lagaan: Once Upon a Time in India\n",
              "12             11'09''01 - September 11\n",
              "5                       Monsoon Wedding\n",
              "4                          Bandit Queen\n",
              "16                            Parineeta\n",
              "18                         The Namesake\n",
              "33             The Hundred-Foot Journey\n",
              "21                  Slumdog Millionaire\n",
              "Name: title, dtype: object"
            ]
          },
          "metadata": {},
          "execution_count": 21
        }
      ]
    },
    {
      "cell_type": "code",
      "source": [
        "recommendations('3 Idiots').head(5)"
      ],
      "metadata": {
        "colab": {
          "base_uri": "https://localhost:8080/"
        },
        "id": "7u40tznY-PhI",
        "outputId": "9b3ae400-8a77-49e5-d3e8-3cf0ae40dfbd"
      },
      "execution_count": null,
      "outputs": [
        {
          "output_type": "execute_result",
          "data": {
            "text/plain": [
              "29     Student of the Year\n",
              "20           The Happening\n",
              "1         The World of Apu\n",
              "7     Bend It Like Beckham\n",
              "5          Monsoon Wedding\n",
              "Name: title, dtype: object"
            ]
          },
          "metadata": {},
          "execution_count": 22
        }
      ]
    },
    {
      "cell_type": "code",
      "source": [
        "recommendations('Yeh Jawaani Hai Deewani').head(5)"
      ],
      "metadata": {
        "colab": {
          "base_uri": "https://localhost:8080/"
        },
        "id": "XetDDS8Q-lmU",
        "outputId": "d2a5e43a-8028-4e2f-fa7f-332d542aa517"
      },
      "execution_count": null,
      "outputs": [
        {
          "output_type": "execute_result",
          "data": {
            "text/plain": [
              "5     Monsoon Wedding\n",
              "37             Rustom\n",
              "25           The Help\n",
              "9                Fire\n",
              "0     Pather Panchali\n",
              "Name: title, dtype: object"
            ]
          },
          "metadata": {},
          "execution_count": 23
        }
      ]
    },
    {
      "cell_type": "code",
      "source": [
        ""
      ],
      "metadata": {
        "id": "97EIdpaf-mYe"
      },
      "execution_count": null,
      "outputs": []
    },
    {
      "cell_type": "markdown",
      "source": [
        "# Movie Cast Crew Keyword nad Genres\n"
      ],
      "metadata": {
        "id": "ZeaE8szl_pln"
      }
    },
    {
      "cell_type": "code",
      "source": [
        "keywords_df = pd.read_csv(\"/content/drive/MyDrive/movie dataset/keywords.csv\")\n",
        "credits_df = pd.read_csv(\"/content/drive/MyDrive/movie dataset/credits.csv\")"
      ],
      "metadata": {
        "id": "UuUkAsPG_oP7"
      },
      "execution_count": null,
      "outputs": []
    },
    {
      "cell_type": "code",
      "source": [
        "keywords_df['id'] = keywords_df['id'].astype('int')\n",
        "credits_df['id'] = credits_df['id'].astype('int')\n",
        "df['id'] = df['id'].astype('int')"
      ],
      "metadata": {
        "id": "g6rTqQJGA9qZ"
      },
      "execution_count": null,
      "outputs": []
    },
    {
      "cell_type": "code",
      "source": [
        "df = df.merge(credits_df, on='id')\n",
        "df = df.merge(keywords_df, on='id')"
      ],
      "metadata": {
        "id": "B8A_HhXUBApV"
      },
      "execution_count": null,
      "outputs": []
    },
    {
      "cell_type": "code",
      "source": [
        "df.shape"
      ],
      "metadata": {
        "colab": {
          "base_uri": "https://localhost:8080/"
        },
        "id": "wLP22j3LOuys",
        "outputId": "096b5715-8de7-4bbd-ee6e-c435c950f087"
      },
      "execution_count": null,
      "outputs": [
        {
          "output_type": "execute_result",
          "data": {
            "text/plain": [
              "(868, 28)"
            ]
          },
          "metadata": {},
          "execution_count": 27
        }
      ]
    },
    {
      "cell_type": "code",
      "source": [
        "small_df = df[df['id'].isin(links_df)]\n",
        "small_df.shape"
      ],
      "metadata": {
        "colab": {
          "base_uri": "https://localhost:8080/"
        },
        "id": "ylINmBEGO6ym",
        "outputId": "a14b78ad-d46b-4162-acc6-aaff8119f22b"
      },
      "execution_count": null,
      "outputs": [
        {
          "output_type": "execute_result",
          "data": {
            "text/plain": [
              "(46, 28)"
            ]
          },
          "metadata": {},
          "execution_count": 28
        }
      ]
    },
    {
      "cell_type": "code",
      "source": [
        "small_df['cast'] = small_df['cast'].apply(literal_eval)\n",
        "small_df['crew'] = small_df['crew'].apply(literal_eval)\n",
        "small_df['keywords'] = small_df['keywords'].apply(literal_eval)\n",
        "small_df['cast_size'] = small_df['cast'].apply(lambda x: len(x))\n",
        "small_df['crew_size'] = small_df['crew'].apply(lambda x: len(x))"
      ],
      "metadata": {
        "id": "vGSSw3UCPI87"
      },
      "execution_count": null,
      "outputs": []
    },
    {
      "cell_type": "code",
      "source": [
        "def make_director(y):\n",
        "    for j in y:\n",
        "        if j['job'] == 'Director':\n",
        "            return j['name']\n",
        "    return np.nan"
      ],
      "metadata": {
        "id": "yGYSKj9mVGU4"
      },
      "execution_count": null,
      "outputs": []
    },
    {
      "cell_type": "code",
      "source": [
        "small_df['director'] = small_df['crew'].apply(make_director)"
      ],
      "metadata": {
        "id": "ASiQQC0lYdc2"
      },
      "execution_count": null,
      "outputs": []
    },
    {
      "cell_type": "code",
      "source": [
        ""
      ],
      "metadata": {
        "id": "qDJ5VbTNC1NF"
      },
      "execution_count": null,
      "outputs": []
    },
    {
      "cell_type": "code",
      "source": [
        "small_df['cast'] = small_df['cast'].apply(lambda x: [i['name'] for i in x] if isinstance(x, list) else [])\n",
        "small_df['cast'] = small_df['cast'].apply(lambda x: x[:3] if len(x) >=3 else x)"
      ],
      "metadata": {
        "id": "F05ookTIYlzk"
      },
      "execution_count": null,
      "outputs": []
    },
    {
      "cell_type": "code",
      "source": [
        "small_df['keywords'] = small_df['keywords'].apply(lambda x: [i['name'] for i in x] if isinstance(x, list) else [])"
      ],
      "metadata": {
        "id": "fQr1sHeNYxH4"
      },
      "execution_count": null,
      "outputs": []
    },
    {
      "cell_type": "code",
      "source": [
        "small_df['director'] = small_df['director'].astype('str').apply(lambda x: str.lower(x.replace(\" \", \"\")))\n",
        "small_df['director'] = small_df['director'].apply(lambda x: [x,x, x])"
      ],
      "metadata": {
        "id": "OjrM8U4eY2lV"
      },
      "execution_count": null,
      "outputs": []
    },
    {
      "cell_type": "code",
      "source": [
        "a = small_df.apply(lambda x: pd.Series(x['keywords']),axis=1).stack().reset_index(level=1, drop=True)\n",
        "a.name = 'keyword'"
      ],
      "metadata": {
        "id": "0IEVvEGlbe_n"
      },
      "execution_count": null,
      "outputs": []
    },
    {
      "cell_type": "code",
      "source": [
        "a = a.value_counts()\n",
        "a[:5]"
      ],
      "metadata": {
        "colab": {
          "base_uri": "https://localhost:8080/"
        },
        "id": "R4HNP1FyhE-D",
        "outputId": "60e0d0da-d8ac-4869-ccbd-57c7c03b6ce4"
      },
      "execution_count": null,
      "outputs": [
        {
          "output_type": "execute_result",
          "data": {
            "text/plain": [
              "bollywood         9\n",
              "woman director    7\n",
              "indian lead       5\n",
              "india             4\n",
              "based on novel    3\n",
              "Name: keyword, dtype: int64"
            ]
          },
          "metadata": {},
          "execution_count": 36
        }
      ]
    },
    {
      "cell_type": "code",
      "source": [
        "a = a[a > 1]"
      ],
      "metadata": {
        "id": "hUJg1yqHhbWG"
      },
      "execution_count": null,
      "outputs": []
    },
    {
      "cell_type": "code",
      "source": [
        "stemmer = SnowballStemmer('english')\n",
        "stemmer.stem('dogs')"
      ],
      "metadata": {
        "colab": {
          "base_uri": "https://localhost:8080/",
          "height": 35
        },
        "id": "bJzZL_5Xh2sE",
        "outputId": "56fc482e-19b5-4892-a101-c9a90f62c7a2"
      },
      "execution_count": null,
      "outputs": [
        {
          "output_type": "execute_result",
          "data": {
            "text/plain": [
              "'dog'"
            ],
            "application/vnd.google.colaboratory.intrinsic+json": {
              "type": "string"
            }
          },
          "metadata": {},
          "execution_count": 38
        }
      ]
    },
    {
      "cell_type": "code",
      "source": [
        "def filtering_keywords(y):\n",
        "    word = []\n",
        "    for j in y:\n",
        "        if j in a:\n",
        "            word.append(j)\n",
        "    return word"
      ],
      "metadata": {
        "id": "tmRcx8DPiv6r"
      },
      "execution_count": null,
      "outputs": []
    },
    {
      "cell_type": "code",
      "source": [
        "small_df['keywords'] = small_df['keywords'].apply(filtering_keywords)\n",
        "small_df['keywords'] = small_df['keywords'].apply(lambda x: [stemmer.stem(i) for i in x])\n",
        "small_df['keywords'] = small_df['keywords'].apply(lambda x: [str.lower(i.replace(\" \", \"\")) for i in x])"
      ],
      "metadata": {
        "id": "Err9m21wjCtZ"
      },
      "execution_count": null,
      "outputs": []
    },
    {
      "cell_type": "code",
      "source": [
        "small_df['keywords'].head(2), small_df['cast'].head(2), small_df['director'].head(2), small_df['genres'].head(2)"
      ],
      "metadata": {
        "colab": {
          "base_uri": "https://localhost:8080/"
        },
        "id": "hxWUOkh60yKo",
        "outputId": "70c0fd8f-f21c-4bae-a306-c1a757c62221"
      },
      "execution_count": null,
      "outputs": [
        {
          "output_type": "execute_result",
          "data": {
            "text/plain": [
              "(0                       [dyinganddeath, writer]\n",
              " 1    [arrangedmarriag, dyinganddeath, calcutta]\n",
              " Name: keywords, dtype: object,\n",
              " 0    [Kanu Bannerjee, Karuna Bannerjee, Chunibala D...\n",
              " 1    [Soumitra Chatterjee, Sharmila Tagore, Alok Ch...\n",
              " Name: cast, dtype: object,\n",
              " 0    [satyajitray, satyajitray, satyajitray]\n",
              " 1    [satyajitray, satyajitray, satyajitray]\n",
              " Name: director, dtype: object,\n",
              " 0    [Drama]\n",
              " 1    [Drama]\n",
              " Name: genres, dtype: object)"
            ]
          },
          "metadata": {},
          "execution_count": 41
        }
      ]
    },
    {
      "cell_type": "code",
      "source": [
        "small_df.head(4)"
      ],
      "metadata": {
        "colab": {
          "base_uri": "https://localhost:8080/",
          "height": 598
        },
        "id": "rfgFgLgADbuf",
        "outputId": "bc65a7dc-32c0-4a34-ae9e-ac0258a67143"
      },
      "execution_count": null,
      "outputs": [
        {
          "output_type": "execute_result",
          "data": {
            "text/plain": [
              "   adult                              belongs_to_collection    budget  \\\n",
              "0  False  {'id': 158391, 'name': 'The Apu Collection', '...         0   \n",
              "1  False  {'id': 158391, 'name': 'The Apu Collection', '...         0   \n",
              "2  False                                                NaN  22000000   \n",
              "3  False                                                NaN   3000000   \n",
              "\n",
              "                      genres homepage     id    imdb_id original_language  \\\n",
              "0                    [Drama]      NaN   5801  tt0048473                bn   \n",
              "1                    [Drama]      NaN    896  tt0052572                bn   \n",
              "2           [Drama, History]      NaN    783  tt0083987                en   \n",
              "3  [Drama, History, Romance]      NaN  28005  tt0116743                en   \n",
              "\n",
              "                original_title  \\\n",
              "0                 পথের পাঁচালী   \n",
              "1                   অপুর সংসার   \n",
              "2                       Gandhi   \n",
              "3  Kama Sutra - A Tale of Love   \n",
              "\n",
              "                                            overview  ...  video vote_average  \\\n",
              "0  The film is a coming-of-age story of a young b...  ...  False          7.9   \n",
              "1  Apu is a jobless ex-student dreaming vaguely o...  ...  False          8.2   \n",
              "2  In the early years of the 20th century, Mohand...  ...  False          7.4   \n",
              "3  Tara and Maya are two inseparable friends in I...  ...  False          5.7   \n",
              "\n",
              "  vote_count  year                                               cast  \\\n",
              "0       63.0  1955  [Kanu Bannerjee, Karuna Bannerjee, Chunibala D...   \n",
              "1       40.0  1959  [Soumitra Chatterjee, Sharmila Tagore, Alok Ch...   \n",
              "2      730.0  1982         [Ben Kingsley, Candice Bergen, Edward Fox]   \n",
              "3       36.0  1996    [Indira Varma, Sarita Choudhury, Ramon Tikaram]   \n",
              "\n",
              "                                                crew  \\\n",
              "0  [{'credit_id': '52fe4423c3a36847f80845c7', 'de...   \n",
              "1  [{'credit_id': '52fe4289c3a36847f80268c1', 'de...   \n",
              "2  [{'credit_id': '574dc2c3925141120e0000cb', 'de...   \n",
              "3  [{'credit_id': '52fe4572c3a368484e05ba07', 'de...   \n",
              "\n",
              "                                     keywords cast_size crew_size  \\\n",
              "0                     [dyinganddeath, writer]        19        15   \n",
              "1  [arrangedmarriag, dyinganddeath, calcutta]         7        23   \n",
              "2            [indianlead, hinduism, calcutta]        92        30   \n",
              "3                             [womandirector]         4         3   \n",
              "\n",
              "                                            director  \n",
              "0            [satyajitray, satyajitray, satyajitray]  \n",
              "1            [satyajitray, satyajitray, satyajitray]  \n",
              "2  [richardattenborough, richardattenborough, ric...  \n",
              "3                     [miranair, miranair, miranair]  \n",
              "\n",
              "[4 rows x 31 columns]"
            ],
            "text/html": [
              "\n",
              "  <div id=\"df-d0c10780-5a79-4730-910a-b8182600ac75\">\n",
              "    <div class=\"colab-df-container\">\n",
              "      <div>\n",
              "<style scoped>\n",
              "    .dataframe tbody tr th:only-of-type {\n",
              "        vertical-align: middle;\n",
              "    }\n",
              "\n",
              "    .dataframe tbody tr th {\n",
              "        vertical-align: top;\n",
              "    }\n",
              "\n",
              "    .dataframe thead th {\n",
              "        text-align: right;\n",
              "    }\n",
              "</style>\n",
              "<table border=\"1\" class=\"dataframe\">\n",
              "  <thead>\n",
              "    <tr style=\"text-align: right;\">\n",
              "      <th></th>\n",
              "      <th>adult</th>\n",
              "      <th>belongs_to_collection</th>\n",
              "      <th>budget</th>\n",
              "      <th>genres</th>\n",
              "      <th>homepage</th>\n",
              "      <th>id</th>\n",
              "      <th>imdb_id</th>\n",
              "      <th>original_language</th>\n",
              "      <th>original_title</th>\n",
              "      <th>overview</th>\n",
              "      <th>...</th>\n",
              "      <th>video</th>\n",
              "      <th>vote_average</th>\n",
              "      <th>vote_count</th>\n",
              "      <th>year</th>\n",
              "      <th>cast</th>\n",
              "      <th>crew</th>\n",
              "      <th>keywords</th>\n",
              "      <th>cast_size</th>\n",
              "      <th>crew_size</th>\n",
              "      <th>director</th>\n",
              "    </tr>\n",
              "  </thead>\n",
              "  <tbody>\n",
              "    <tr>\n",
              "      <th>0</th>\n",
              "      <td>False</td>\n",
              "      <td>{'id': 158391, 'name': 'The Apu Collection', '...</td>\n",
              "      <td>0</td>\n",
              "      <td>[Drama]</td>\n",
              "      <td>NaN</td>\n",
              "      <td>5801</td>\n",
              "      <td>tt0048473</td>\n",
              "      <td>bn</td>\n",
              "      <td>পথের পাঁচালী</td>\n",
              "      <td>The film is a coming-of-age story of a young b...</td>\n",
              "      <td>...</td>\n",
              "      <td>False</td>\n",
              "      <td>7.9</td>\n",
              "      <td>63.0</td>\n",
              "      <td>1955</td>\n",
              "      <td>[Kanu Bannerjee, Karuna Bannerjee, Chunibala D...</td>\n",
              "      <td>[{'credit_id': '52fe4423c3a36847f80845c7', 'de...</td>\n",
              "      <td>[dyinganddeath, writer]</td>\n",
              "      <td>19</td>\n",
              "      <td>15</td>\n",
              "      <td>[satyajitray, satyajitray, satyajitray]</td>\n",
              "    </tr>\n",
              "    <tr>\n",
              "      <th>1</th>\n",
              "      <td>False</td>\n",
              "      <td>{'id': 158391, 'name': 'The Apu Collection', '...</td>\n",
              "      <td>0</td>\n",
              "      <td>[Drama]</td>\n",
              "      <td>NaN</td>\n",
              "      <td>896</td>\n",
              "      <td>tt0052572</td>\n",
              "      <td>bn</td>\n",
              "      <td>অপুর সংসার</td>\n",
              "      <td>Apu is a jobless ex-student dreaming vaguely o...</td>\n",
              "      <td>...</td>\n",
              "      <td>False</td>\n",
              "      <td>8.2</td>\n",
              "      <td>40.0</td>\n",
              "      <td>1959</td>\n",
              "      <td>[Soumitra Chatterjee, Sharmila Tagore, Alok Ch...</td>\n",
              "      <td>[{'credit_id': '52fe4289c3a36847f80268c1', 'de...</td>\n",
              "      <td>[arrangedmarriag, dyinganddeath, calcutta]</td>\n",
              "      <td>7</td>\n",
              "      <td>23</td>\n",
              "      <td>[satyajitray, satyajitray, satyajitray]</td>\n",
              "    </tr>\n",
              "    <tr>\n",
              "      <th>2</th>\n",
              "      <td>False</td>\n",
              "      <td>NaN</td>\n",
              "      <td>22000000</td>\n",
              "      <td>[Drama, History]</td>\n",
              "      <td>NaN</td>\n",
              "      <td>783</td>\n",
              "      <td>tt0083987</td>\n",
              "      <td>en</td>\n",
              "      <td>Gandhi</td>\n",
              "      <td>In the early years of the 20th century, Mohand...</td>\n",
              "      <td>...</td>\n",
              "      <td>False</td>\n",
              "      <td>7.4</td>\n",
              "      <td>730.0</td>\n",
              "      <td>1982</td>\n",
              "      <td>[Ben Kingsley, Candice Bergen, Edward Fox]</td>\n",
              "      <td>[{'credit_id': '574dc2c3925141120e0000cb', 'de...</td>\n",
              "      <td>[indianlead, hinduism, calcutta]</td>\n",
              "      <td>92</td>\n",
              "      <td>30</td>\n",
              "      <td>[richardattenborough, richardattenborough, ric...</td>\n",
              "    </tr>\n",
              "    <tr>\n",
              "      <th>3</th>\n",
              "      <td>False</td>\n",
              "      <td>NaN</td>\n",
              "      <td>3000000</td>\n",
              "      <td>[Drama, History, Romance]</td>\n",
              "      <td>NaN</td>\n",
              "      <td>28005</td>\n",
              "      <td>tt0116743</td>\n",
              "      <td>en</td>\n",
              "      <td>Kama Sutra - A Tale of Love</td>\n",
              "      <td>Tara and Maya are two inseparable friends in I...</td>\n",
              "      <td>...</td>\n",
              "      <td>False</td>\n",
              "      <td>5.7</td>\n",
              "      <td>36.0</td>\n",
              "      <td>1996</td>\n",
              "      <td>[Indira Varma, Sarita Choudhury, Ramon Tikaram]</td>\n",
              "      <td>[{'credit_id': '52fe4572c3a368484e05ba07', 'de...</td>\n",
              "      <td>[womandirector]</td>\n",
              "      <td>4</td>\n",
              "      <td>3</td>\n",
              "      <td>[miranair, miranair, miranair]</td>\n",
              "    </tr>\n",
              "  </tbody>\n",
              "</table>\n",
              "<p>4 rows × 31 columns</p>\n",
              "</div>\n",
              "      <button class=\"colab-df-convert\" onclick=\"convertToInteractive('df-d0c10780-5a79-4730-910a-b8182600ac75')\"\n",
              "              title=\"Convert this dataframe to an interactive table.\"\n",
              "              style=\"display:none;\">\n",
              "        \n",
              "  <svg xmlns=\"http://www.w3.org/2000/svg\" height=\"24px\"viewBox=\"0 0 24 24\"\n",
              "       width=\"24px\">\n",
              "    <path d=\"M0 0h24v24H0V0z\" fill=\"none\"/>\n",
              "    <path d=\"M18.56 5.44l.94 2.06.94-2.06 2.06-.94-2.06-.94-.94-2.06-.94 2.06-2.06.94zm-11 1L8.5 8.5l.94-2.06 2.06-.94-2.06-.94L8.5 2.5l-.94 2.06-2.06.94zm10 10l.94 2.06.94-2.06 2.06-.94-2.06-.94-.94-2.06-.94 2.06-2.06.94z\"/><path d=\"M17.41 7.96l-1.37-1.37c-.4-.4-.92-.59-1.43-.59-.52 0-1.04.2-1.43.59L10.3 9.45l-7.72 7.72c-.78.78-.78 2.05 0 2.83L4 21.41c.39.39.9.59 1.41.59.51 0 1.02-.2 1.41-.59l7.78-7.78 2.81-2.81c.8-.78.8-2.07 0-2.86zM5.41 20L4 18.59l7.72-7.72 1.47 1.35L5.41 20z\"/>\n",
              "  </svg>\n",
              "      </button>\n",
              "      \n",
              "  <style>\n",
              "    .colab-df-container {\n",
              "      display:flex;\n",
              "      flex-wrap:wrap;\n",
              "      gap: 12px;\n",
              "    }\n",
              "\n",
              "    .colab-df-convert {\n",
              "      background-color: #E8F0FE;\n",
              "      border: none;\n",
              "      border-radius: 50%;\n",
              "      cursor: pointer;\n",
              "      display: none;\n",
              "      fill: #1967D2;\n",
              "      height: 32px;\n",
              "      padding: 0 0 0 0;\n",
              "      width: 32px;\n",
              "    }\n",
              "\n",
              "    .colab-df-convert:hover {\n",
              "      background-color: #E2EBFA;\n",
              "      box-shadow: 0px 1px 2px rgba(60, 64, 67, 0.3), 0px 1px 3px 1px rgba(60, 64, 67, 0.15);\n",
              "      fill: #174EA6;\n",
              "    }\n",
              "\n",
              "    [theme=dark] .colab-df-convert {\n",
              "      background-color: #3B4455;\n",
              "      fill: #D2E3FC;\n",
              "    }\n",
              "\n",
              "    [theme=dark] .colab-df-convert:hover {\n",
              "      background-color: #434B5C;\n",
              "      box-shadow: 0px 1px 3px 1px rgba(0, 0, 0, 0.15);\n",
              "      filter: drop-shadow(0px 1px 2px rgba(0, 0, 0, 0.3));\n",
              "      fill: #FFFFFF;\n",
              "    }\n",
              "  </style>\n",
              "\n",
              "      <script>\n",
              "        const buttonEl =\n",
              "          document.querySelector('#df-d0c10780-5a79-4730-910a-b8182600ac75 button.colab-df-convert');\n",
              "        buttonEl.style.display =\n",
              "          google.colab.kernel.accessAllowed ? 'block' : 'none';\n",
              "\n",
              "        async function convertToInteractive(key) {\n",
              "          const element = document.querySelector('#df-d0c10780-5a79-4730-910a-b8182600ac75');\n",
              "          const dataTable =\n",
              "            await google.colab.kernel.invokeFunction('convertToInteractive',\n",
              "                                                     [key], {});\n",
              "          if (!dataTable) return;\n",
              "\n",
              "          const docLinkHtml = 'Like what you see? Visit the ' +\n",
              "            '<a target=\"_blank\" href=https://colab.research.google.com/notebooks/data_table.ipynb>data table notebook</a>'\n",
              "            + ' to learn more about interactive tables.';\n",
              "          element.innerHTML = '';\n",
              "          dataTable['output_type'] = 'display_data';\n",
              "          await google.colab.output.renderOutput(dataTable, element);\n",
              "          const docLink = document.createElement('div');\n",
              "          docLink.innerHTML = docLinkHtml;\n",
              "          element.appendChild(docLink);\n",
              "        }\n",
              "      </script>\n",
              "    </div>\n",
              "  </div>\n",
              "  "
            ]
          },
          "metadata": {},
          "execution_count": 42
        }
      ]
    },
    {
      "cell_type": "code",
      "source": [
        "small_df['soup'] = small_df['keywords'] + small_df['cast'] + small_df['director'] + small_df['genres']\n",
        "small_df['soup'] = small_df['soup'].apply(lambda x: ' '.join(x))"
      ],
      "metadata": {
        "id": "qmPWlhv4jOR2"
      },
      "execution_count": null,
      "outputs": []
    },
    {
      "cell_type": "code",
      "source": [
        "count = CountVectorizer(analyzer='word',ngram_range=(1, 2),min_df=0, stop_words='english')\n",
        "\n",
        "count_matrix = count.fit_transform(small_df['soup'])"
      ],
      "metadata": {
        "id": "OUm0u6hIjhfi"
      },
      "execution_count": null,
      "outputs": []
    },
    {
      "cell_type": "code",
      "source": [
        "cosine = cosine_similarity(count_matrix, count_matrix)"
      ],
      "metadata": {
        "id": "82ruih9ajscl"
      },
      "execution_count": null,
      "outputs": []
    },
    {
      "cell_type": "code",
      "source": [
        "small_df = small_df.reset_index()\n",
        "titles = small_df['title']\n",
        "indices = pd.Series(small_df.index, index=small_df['title'])"
      ],
      "metadata": {
        "id": "OsRFy8XjkOM0"
      },
      "execution_count": null,
      "outputs": []
    },
    {
      "cell_type": "code",
      "source": [
        "recommendations('Monsoon Wedding').head(5)"
      ],
      "metadata": {
        "colab": {
          "base_uri": "https://localhost:8080/"
        },
        "id": "dhmcwReHkW3E",
        "outputId": "10c9971c-5a5c-413a-c226-6da3dab268fc"
      },
      "execution_count": null,
      "outputs": [
        {
          "output_type": "execute_result",
          "data": {
            "text/plain": [
              "9               Fire\n",
              "18       The Warrior\n",
              "8     Salaam Bombay!\n",
              "32        Real Steel\n",
              "25          The Fall\n",
              "Name: title, dtype: object"
            ]
          },
          "metadata": {},
          "execution_count": 47
        }
      ]
    },
    {
      "cell_type": "code",
      "source": [
        "recommendations('Gandhi').head(5)"
      ],
      "metadata": {
        "colab": {
          "base_uri": "https://localhost:8080/"
        },
        "id": "PbDG_DyCkdoj",
        "outputId": "934aab60-8bd7-4146-8a7d-8640ec8aeb4a"
      },
      "execution_count": null,
      "outputs": [
        {
          "output_type": "execute_result",
          "data": {
            "text/plain": [
              "0                       Pather Panchali\n",
              "35                  Student of the Year\n",
              "10    Lagaan: Once Upon a Time in India\n",
              "12             11'09''01 - September 11\n",
              "5                       Monsoon Wedding\n",
              "Name: title, dtype: object"
            ]
          },
          "metadata": {},
          "execution_count": 48
        }
      ]
    },
    {
      "cell_type": "code",
      "source": [
        ""
      ],
      "metadata": {
        "id": "Iw4sYR_Nr1QO"
      },
      "execution_count": null,
      "outputs": []
    },
    {
      "cell_type": "code",
      "source": [
        "def modify_recommendations(any_title):\n",
        "    index_movie = recommendations(any_title, bool=True)\n",
        "    movies = small_df.iloc[index_movie][['title', 'vote_count', 'vote_average', 'year']]\n",
        "    counts = movies[movies['vote_count'].notnull()]['vote_count'].astype('int')\n",
        "    averages = movies[movies['vote_average'].notnull()]['vote_average'].astype('int')\n",
        "    C = vote_averages.mean()\n",
        "    m = vote_counts.quantile(0.60)\n",
        "    qualify = movies[(movies['vote_count'] >= m) & (movies['vote_count'].notnull()) & (movies['vote_average'].notnull())]\n",
        "    qualify['vote_count'] = qualify['vote_count'].astype('int')\n",
        "    qualify['vote_average'] = qualify['vote_average'].astype('int')\n",
        "    qualify['wr'] = qualify.apply(weighted_rating, axis=1)\n",
        "    qualify = qualify.sort_values('wr', ascending=False).head(10)\n",
        "    return qualify"
      ],
      "metadata": {
        "id": "yRYOUr1Hk1ac"
      },
      "execution_count": null,
      "outputs": []
    },
    {
      "cell_type": "code",
      "source": [
        "modify_recommendations('Gandhi').head(5)"
      ],
      "metadata": {
        "colab": {
          "base_uri": "https://localhost:8080/",
          "height": 206
        },
        "id": "UyNnK9JZk4l7",
        "outputId": "40e72435-7e70-49f5-da35-6e005e557212"
      },
      "execution_count": null,
      "outputs": [
        {
          "output_type": "execute_result",
          "data": {
            "text/plain": [
              "                                title  vote_count  vote_average  year  \\\n",
              "31                           The Help        1966             7  2011   \n",
              "25                           The Fall         430             7  2008   \n",
              "10  Lagaan: Once Upon a Time in India         125             7  2001   \n",
              "1                    The World of Apu          40             8  1959   \n",
              "0                     Pather Panchali          63             7  1955   \n",
              "\n",
              "          wr  \n",
              "31  6.939823  \n",
              "25  6.759995  \n",
              "10  6.409750  \n",
              "1   6.327723  \n",
              "0   6.160801  "
            ],
            "text/html": [
              "\n",
              "  <div id=\"df-8f901e0e-d6bd-47ff-9ed0-aadb3e194fcd\">\n",
              "    <div class=\"colab-df-container\">\n",
              "      <div>\n",
              "<style scoped>\n",
              "    .dataframe tbody tr th:only-of-type {\n",
              "        vertical-align: middle;\n",
              "    }\n",
              "\n",
              "    .dataframe tbody tr th {\n",
              "        vertical-align: top;\n",
              "    }\n",
              "\n",
              "    .dataframe thead th {\n",
              "        text-align: right;\n",
              "    }\n",
              "</style>\n",
              "<table border=\"1\" class=\"dataframe\">\n",
              "  <thead>\n",
              "    <tr style=\"text-align: right;\">\n",
              "      <th></th>\n",
              "      <th>title</th>\n",
              "      <th>vote_count</th>\n",
              "      <th>vote_average</th>\n",
              "      <th>year</th>\n",
              "      <th>wr</th>\n",
              "    </tr>\n",
              "  </thead>\n",
              "  <tbody>\n",
              "    <tr>\n",
              "      <th>31</th>\n",
              "      <td>The Help</td>\n",
              "      <td>1966</td>\n",
              "      <td>7</td>\n",
              "      <td>2011</td>\n",
              "      <td>6.939823</td>\n",
              "    </tr>\n",
              "    <tr>\n",
              "      <th>25</th>\n",
              "      <td>The Fall</td>\n",
              "      <td>430</td>\n",
              "      <td>7</td>\n",
              "      <td>2008</td>\n",
              "      <td>6.759995</td>\n",
              "    </tr>\n",
              "    <tr>\n",
              "      <th>10</th>\n",
              "      <td>Lagaan: Once Upon a Time in India</td>\n",
              "      <td>125</td>\n",
              "      <td>7</td>\n",
              "      <td>2001</td>\n",
              "      <td>6.409750</td>\n",
              "    </tr>\n",
              "    <tr>\n",
              "      <th>1</th>\n",
              "      <td>The World of Apu</td>\n",
              "      <td>40</td>\n",
              "      <td>8</td>\n",
              "      <td>1959</td>\n",
              "      <td>6.327723</td>\n",
              "    </tr>\n",
              "    <tr>\n",
              "      <th>0</th>\n",
              "      <td>Pather Panchali</td>\n",
              "      <td>63</td>\n",
              "      <td>7</td>\n",
              "      <td>1955</td>\n",
              "      <td>6.160801</td>\n",
              "    </tr>\n",
              "  </tbody>\n",
              "</table>\n",
              "</div>\n",
              "      <button class=\"colab-df-convert\" onclick=\"convertToInteractive('df-8f901e0e-d6bd-47ff-9ed0-aadb3e194fcd')\"\n",
              "              title=\"Convert this dataframe to an interactive table.\"\n",
              "              style=\"display:none;\">\n",
              "        \n",
              "  <svg xmlns=\"http://www.w3.org/2000/svg\" height=\"24px\"viewBox=\"0 0 24 24\"\n",
              "       width=\"24px\">\n",
              "    <path d=\"M0 0h24v24H0V0z\" fill=\"none\"/>\n",
              "    <path d=\"M18.56 5.44l.94 2.06.94-2.06 2.06-.94-2.06-.94-.94-2.06-.94 2.06-2.06.94zm-11 1L8.5 8.5l.94-2.06 2.06-.94-2.06-.94L8.5 2.5l-.94 2.06-2.06.94zm10 10l.94 2.06.94-2.06 2.06-.94-2.06-.94-.94-2.06-.94 2.06-2.06.94z\"/><path d=\"M17.41 7.96l-1.37-1.37c-.4-.4-.92-.59-1.43-.59-.52 0-1.04.2-1.43.59L10.3 9.45l-7.72 7.72c-.78.78-.78 2.05 0 2.83L4 21.41c.39.39.9.59 1.41.59.51 0 1.02-.2 1.41-.59l7.78-7.78 2.81-2.81c.8-.78.8-2.07 0-2.86zM5.41 20L4 18.59l7.72-7.72 1.47 1.35L5.41 20z\"/>\n",
              "  </svg>\n",
              "      </button>\n",
              "      \n",
              "  <style>\n",
              "    .colab-df-container {\n",
              "      display:flex;\n",
              "      flex-wrap:wrap;\n",
              "      gap: 12px;\n",
              "    }\n",
              "\n",
              "    .colab-df-convert {\n",
              "      background-color: #E8F0FE;\n",
              "      border: none;\n",
              "      border-radius: 50%;\n",
              "      cursor: pointer;\n",
              "      display: none;\n",
              "      fill: #1967D2;\n",
              "      height: 32px;\n",
              "      padding: 0 0 0 0;\n",
              "      width: 32px;\n",
              "    }\n",
              "\n",
              "    .colab-df-convert:hover {\n",
              "      background-color: #E2EBFA;\n",
              "      box-shadow: 0px 1px 2px rgba(60, 64, 67, 0.3), 0px 1px 3px 1px rgba(60, 64, 67, 0.15);\n",
              "      fill: #174EA6;\n",
              "    }\n",
              "\n",
              "    [theme=dark] .colab-df-convert {\n",
              "      background-color: #3B4455;\n",
              "      fill: #D2E3FC;\n",
              "    }\n",
              "\n",
              "    [theme=dark] .colab-df-convert:hover {\n",
              "      background-color: #434B5C;\n",
              "      box-shadow: 0px 1px 3px 1px rgba(0, 0, 0, 0.15);\n",
              "      filter: drop-shadow(0px 1px 2px rgba(0, 0, 0, 0.3));\n",
              "      fill: #FFFFFF;\n",
              "    }\n",
              "  </style>\n",
              "\n",
              "      <script>\n",
              "        const buttonEl =\n",
              "          document.querySelector('#df-8f901e0e-d6bd-47ff-9ed0-aadb3e194fcd button.colab-df-convert');\n",
              "        buttonEl.style.display =\n",
              "          google.colab.kernel.accessAllowed ? 'block' : 'none';\n",
              "\n",
              "        async function convertToInteractive(key) {\n",
              "          const element = document.querySelector('#df-8f901e0e-d6bd-47ff-9ed0-aadb3e194fcd');\n",
              "          const dataTable =\n",
              "            await google.colab.kernel.invokeFunction('convertToInteractive',\n",
              "                                                     [key], {});\n",
              "          if (!dataTable) return;\n",
              "\n",
              "          const docLinkHtml = 'Like what you see? Visit the ' +\n",
              "            '<a target=\"_blank\" href=https://colab.research.google.com/notebooks/data_table.ipynb>data table notebook</a>'\n",
              "            + ' to learn more about interactive tables.';\n",
              "          element.innerHTML = '';\n",
              "          dataTable['output_type'] = 'display_data';\n",
              "          await google.colab.output.renderOutput(dataTable, element);\n",
              "          const docLink = document.createElement('div');\n",
              "          docLink.innerHTML = docLinkHtml;\n",
              "          element.appendChild(docLink);\n",
              "        }\n",
              "      </script>\n",
              "    </div>\n",
              "  </div>\n",
              "  "
            ]
          },
          "metadata": {},
          "execution_count": 52
        }
      ]
    },
    {
      "cell_type": "code",
      "source": [
        ""
      ],
      "metadata": {
        "id": "QVHym-rHl_ug"
      },
      "execution_count": 1,
      "outputs": []
    }
  ]
}